{
 "cells": [
  {
   "cell_type": "code",
   "execution_count": 6,
   "id": "f7a18777",
   "metadata": {},
   "outputs": [],
   "source": [
    "class Araba():\n",
    "    \n",
    "    def __init__(self , model,renk,beygir_gücü,silindir): \n",
    "        print(\"Inıt fonksiyonu çağrıldı.\")\n",
    "        self.modell = model \n",
    "        self.renk = renk \n",
    "        self.beygir_gücü = beygir_gücü \n",
    "        self.silindir = silindir"
   ]
  },
  {
   "cell_type": "code",
   "execution_count": 7,
   "id": "64b6af89",
   "metadata": {},
   "outputs": [
    {
     "name": "stdout",
     "output_type": "stream",
     "text": [
      "Inıt fonksiyonu çağrıldı.\n"
     ]
    }
   ],
   "source": [
    "araba1 = Araba(\"Toyota\",\"Sarı\",135,4)"
   ]
  },
  {
   "cell_type": "code",
   "execution_count": 11,
   "id": "fa05c12c",
   "metadata": {},
   "outputs": [
    {
     "data": {
      "text/plain": [
       "'Toyota'"
      ]
     },
     "execution_count": 11,
     "metadata": {},
     "output_type": "execute_result"
    }
   ],
   "source": [
    "araba1.modell #self.modell deki model çağırmak için, init teki model tanımlamak için"
   ]
  },
  {
   "cell_type": "code",
   "execution_count": 12,
   "id": "454cf29b",
   "metadata": {},
   "outputs": [],
   "source": [
    "class Araba():\n",
    "    \n",
    "    def __init__(self , model = \"Bilgi Yok\",renk = \"Bilgi Yok\",beygir_gücü = 75 ,silindir = 4): \n",
    "        self.model =  model \n",
    "        self.renk = renk \n",
    "        self.beygir_gücü = beygir_gücü \n",
    "        self.silindir = silindir"
   ]
  },
  {
   "cell_type": "code",
   "execution_count": 13,
   "id": "d87cb0ea",
   "metadata": {},
   "outputs": [],
   "source": [
    "araba2 = Araba()"
   ]
  },
  {
   "cell_type": "code",
   "execution_count": 14,
   "id": "68483f2d",
   "metadata": {},
   "outputs": [
    {
     "data": {
      "text/plain": [
       "'Bilgi Yok'"
      ]
     },
     "execution_count": 14,
     "metadata": {},
     "output_type": "execute_result"
    }
   ],
   "source": [
    "araba2.model"
   ]
  },
  {
   "cell_type": "code",
   "execution_count": 15,
   "id": "fff3a0b5",
   "metadata": {},
   "outputs": [
    {
     "data": {
      "text/plain": [
       "75"
      ]
     },
     "execution_count": 15,
     "metadata": {},
     "output_type": "execute_result"
    }
   ],
   "source": [
    "araba2.beygir_gücü"
   ]
  },
  {
   "cell_type": "code",
   "execution_count": 18,
   "id": "9c57b818",
   "metadata": {},
   "outputs": [],
   "source": [
    "araba2 = Araba(silindir=6)"
   ]
  },
  {
   "cell_type": "code",
   "execution_count": 19,
   "id": "bde0a1f9",
   "metadata": {},
   "outputs": [
    {
     "data": {
      "text/plain": [
       "6"
      ]
     },
     "execution_count": 19,
     "metadata": {},
     "output_type": "execute_result"
    }
   ],
   "source": [
    "araba2.silindir"
   ]
  },
  {
   "cell_type": "code",
   "execution_count": 22,
   "id": "b9fb4f21",
   "metadata": {},
   "outputs": [],
   "source": [
    "araba2 = Araba(95)"
   ]
  },
  {
   "cell_type": "code",
   "execution_count": 24,
   "id": "e4c67d91",
   "metadata": {},
   "outputs": [
    {
     "data": {
      "text/plain": [
       "95"
      ]
     },
     "execution_count": 24,
     "metadata": {},
     "output_type": "execute_result"
    }
   ],
   "source": [
    "araba2.model"
   ]
  },
  {
   "cell_type": "code",
   "execution_count": null,
   "id": "8d89a61e",
   "metadata": {},
   "outputs": [],
   "source": []
  },
  {
   "cell_type": "code",
   "execution_count": 34,
   "id": "8037adc9",
   "metadata": {},
   "outputs": [],
   "source": [
    "class Yazılımcı():\n",
    "    def __init__(self,isim,soyisim,numara,maaş,diller):\n",
    "        self.isim = isim\n",
    "        self.soyisim = soyisim\n",
    "        self.numara = numara\n",
    "        self.maaş = maaş\n",
    "        self.diller = diller\n",
    "    def bilgilerigöster(self):\n",
    "        print(\"\"\"\n",
    "        Yazılımcı objenin bilgileri:\n",
    "        \n",
    "        İsim: {}\n",
    "        \n",
    "        Soyisim: {}\n",
    "        \n",
    "        Numara: {}\n",
    "        \n",
    "        Maaş: {}\n",
    "        \n",
    "        Diller: {}\n",
    "            \n",
    "        \"\"\".format(self.isim,self.soyisim,self.numara,self.maaş,self.diller))\n",
    "    def zam(self,zam_miktarı):\n",
    "        print(\"Zam yapılıyor...\")\n",
    "        self.maaş += zam_miktarı\n",
    "    \n",
    "    def dil_ekle(self,yeni_dil):\n",
    "        print(\"Dil ekleniyor...\")\n",
    "        self.diller.append(yeni_dil)\n",
    "    \n",
    "        "
   ]
  },
  {
   "cell_type": "code",
   "execution_count": 35,
   "id": "2d44be4d",
   "metadata": {},
   "outputs": [],
   "source": [
    "yazılımcı1 = Yazılımcı(\"Burak\",\"Aydın\",\"1234\",3000,[\"Python\",\"Java\"]) "
   ]
  },
  {
   "cell_type": "code",
   "execution_count": 36,
   "id": "a66f9dbf",
   "metadata": {},
   "outputs": [
    {
     "name": "stdout",
     "output_type": "stream",
     "text": [
      "\n",
      "        Yazılımcı objenin bilgileri:\n",
      "        \n",
      "        İsim: Burak\n",
      "        \n",
      "        Soyisim: Aydın\n",
      "        \n",
      "        Numara: 1234\n",
      "        \n",
      "        Maaş: 3000\n",
      "        \n",
      "        Diller: ['Python', 'Java']\n",
      "            \n",
      "        \n"
     ]
    }
   ],
   "source": [
    "yazılımcı1.bilgilerigöster()"
   ]
  },
  {
   "cell_type": "code",
   "execution_count": 37,
   "id": "2fb8892d",
   "metadata": {},
   "outputs": [
    {
     "name": "stdout",
     "output_type": "stream",
     "text": [
      "Dil ekleniyor...\n"
     ]
    }
   ],
   "source": [
    "yazılımcı1.dil_ekle(\"C\")"
   ]
  },
  {
   "cell_type": "code",
   "execution_count": 38,
   "id": "7b2460cb",
   "metadata": {},
   "outputs": [
    {
     "name": "stdout",
     "output_type": "stream",
     "text": [
      "\n",
      "        Yazılımcı objenin bilgileri:\n",
      "        \n",
      "        İsim: Burak\n",
      "        \n",
      "        Soyisim: Aydın\n",
      "        \n",
      "        Numara: 1234\n",
      "        \n",
      "        Maaş: 3000\n",
      "        \n",
      "        Diller: ['Python', 'Java', 'C']\n",
      "            \n",
      "        \n"
     ]
    }
   ],
   "source": [
    "yazılımcı1.bilgilerigöster()"
   ]
  },
  {
   "cell_type": "code",
   "execution_count": 39,
   "id": "090a5167",
   "metadata": {},
   "outputs": [
    {
     "name": "stdout",
     "output_type": "stream",
     "text": [
      "Zam yapılıyor...\n"
     ]
    }
   ],
   "source": [
    "yazılımcı1.zam(600)"
   ]
  },
  {
   "cell_type": "code",
   "execution_count": 42,
   "id": "7b5f2a37",
   "metadata": {},
   "outputs": [
    {
     "name": "stdout",
     "output_type": "stream",
     "text": [
      "\n",
      "        Yazılımcı objenin bilgileri:\n",
      "        \n",
      "        İsim: Burak\n",
      "        \n",
      "        Soyisim: Aydın\n",
      "        \n",
      "        Numara: 1234\n",
      "        \n",
      "        Maaş: 3600\n",
      "        \n",
      "        Diller: ['Python', 'Java', 'C']\n",
      "            \n",
      "        \n"
     ]
    }
   ],
   "source": [
    "yazılımcı1.bilgilerigöster()"
   ]
  },
  {
   "cell_type": "code",
   "execution_count": null,
   "id": "3c4df19d",
   "metadata": {},
   "outputs": [],
   "source": []
  }
 ],
 "metadata": {
  "kernelspec": {
   "display_name": "Python 3 (ipykernel)",
   "language": "python",
   "name": "python3"
  },
  "language_info": {
   "codemirror_mode": {
    "name": "ipython",
    "version": 3
   },
   "file_extension": ".py",
   "mimetype": "text/x-python",
   "name": "python",
   "nbconvert_exporter": "python",
   "pygments_lexer": "ipython3",
   "version": "3.9.12"
  }
 },
 "nbformat": 4,
 "nbformat_minor": 5
}
